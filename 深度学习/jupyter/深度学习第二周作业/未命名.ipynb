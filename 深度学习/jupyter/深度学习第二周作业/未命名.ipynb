{
 "cells": [
  {
   "cell_type": "code",
   "execution_count": 33,
   "metadata": {},
   "outputs": [],
   "source": [
    "import h5py\n",
    "import matplotlib.pyplot as plt\n",
    "import numpy as np"
   ]
  },
  {
   "cell_type": "code",
   "execution_count": 23,
   "metadata": {},
   "outputs": [],
   "source": [
    "train_dataset = h5py.File(\"train_catvnoncat.h5\", 'r')\n",
    "test_dataset = h5py.File(\"test_catvnoncat.h5\", 'r')"
   ]
  },
  {
   "cell_type": "code",
   "execution_count": 24,
   "metadata": {},
   "outputs": [
    {
     "name": "stdout",
     "output_type": "stream",
     "text": [
      "list_classes\n",
      "train_set_x\n",
      "train_set_y\n"
     ]
    }
   ],
   "source": [
    "for k in train_dataset.keys():\n",
    "    print(k)"
   ]
  },
  {
   "cell_type": "code",
   "execution_count": 25,
   "metadata": {},
   "outputs": [
    {
     "data": {
      "text/plain": [
       "(209, 64, 64, 3)"
      ]
     },
     "execution_count": 25,
     "metadata": {},
     "output_type": "execute_result"
    }
   ],
   "source": [
    "train_dataset['train_set_x'].shape"
   ]
  },
  {
   "cell_type": "code",
   "execution_count": 26,
   "metadata": {},
   "outputs": [
    {
     "data": {
      "text/plain": [
       "(209,)"
      ]
     },
     "execution_count": 26,
     "metadata": {},
     "output_type": "execute_result"
    }
   ],
   "source": [
    "train_dataset['train_set_y'].shape"
   ]
  },
  {
   "cell_type": "code",
   "execution_count": 27,
   "metadata": {},
   "outputs": [],
   "source": [
    "# 取出训练集与测试集\n",
    "train_data_org = train_dataset[\"train_set_x\"][:]\n",
    "train_labels_org = train_dataset['train_set_y'][:]\n",
    "test_data_org = test_dataset[\"test_set_x\"][:]\n",
    "test_labels_org = test_dataset['test_set_y'][:]"
   ]
  },
  {
   "cell_type": "code",
   "execution_count": 29,
   "metadata": {},
   "outputs": [
    {
     "data": {
      "text/plain": [
       "<matplotlib.image.AxesImage at 0x10cf30450>"
      ]
     },
     "execution_count": 29,
     "metadata": {},
     "output_type": "execute_result"
    },
    {
     "data": {
      "image/png": "[encoded data removed]",
      "text/plain": [
       "<Figure size 432x288 with 1 Axes>"
      ]
     },
     "metadata": {
      "needs_background": "light"
     },
     "output_type": "display_data"
    }
   ],
   "source": [
    "# 查看图片\n",
    "%matplotlib inline\n",
    "plt.imshow(train_data_org[148])"
   ]
  },
  {
   "cell_type": "code",
   "execution_count": 31,
   "metadata": {},
   "outputs": [],
   "source": [
    "# 数据维度处理\n",
    "# 获取样本个数\n",
    "m_train = train_data_org.shape[0]\n",
    "m_test = test_data_org.shape[0]\n",
    "\n",
    "train_data_tran = train_data_org.reshape(m_train, -1).T #将（209，64，64，3）reshape成（209，64*64*3）的格式，再转置\n",
    "test_data_tran = test_data_org.reshape(m_test, -1).T"
   ]
  },
  {
   "cell_type": "code",
   "execution_count": 32,
   "metadata": {},
   "outputs": [
    {
     "name": "stdout",
     "output_type": "stream",
     "text": [
      "(12288, 50) (12288, 50)\n"
     ]
    }
   ],
   "source": [
    "print(test_data_tran.shape, test_data_tran.shape)"
   ]
  },
  {
   "cell_type": "code",
   "execution_count": 39,
   "metadata": {},
   "outputs": [],
   "source": [
    "# 数据维度处理\n",
    "# 标签的处理\n",
    "train_lable_tran = train_labels_org.reshape(1, m_train)\n",
    "test_lable_tran = test_labels_org.reshape(1, m_test)\n",
    "#print(train_lable_tran.shape, test_lable_tran.shape)"
   ]
  },
  {
   "cell_type": "code",
   "execution_count": 40,
   "metadata": {},
   "outputs": [
    {
     "name": "stdout",
     "output_type": "stream",
     "text": [
      "[[0.61960784 0.45098039 1.         ... 0.16078431 0.07058824 0.52156863]\n",
      " [0.40784314 0.43137255 0.99215686 ... 0.18431373 0.07058824 0.63921569]\n",
      " [0.3254902  0.43529412 0.99607843 ... 0.32941176 0.0627451  0.29411765]\n",
      " ...\n",
      " [0.67843137 0.67058824 0.52156863 ... 0.71764706 0.56470588 0.01960784]\n",
      " [0.50196078 0.69019608 0.39607843 ... 0.55294118 0.5372549  0.08627451]\n",
      " [0.43137255 0.72941176 0.4745098  ... 0.45490196 0.42352941 0.01960784]]\n"
     ]
    }
   ],
   "source": [
    "# 标准化数据\n",
    "# 将0~255标准化到0~1\n",
    "train_data_sta = train_data_tran / 255\n",
    "test_data_sta = test_data_tran / 255\n",
    "print(test_data_sta)"
   ]
  },
  {
   "cell_type": "code",
   "execution_count": 41,
   "metadata": {},
   "outputs": [],
   "source": [
    "# 定义sigmoid函数\n",
    "def sigmoid(z):\n",
    "    a = 1 / (1 + np.exp(-z))\n",
    "    return a"
   ]
  },
  {
   "cell_type": "code",
   "execution_count": 44,
   "metadata": {},
   "outputs": [],
   "source": [
    "# 初始化w, b\n",
    "n_dim = train_data_sta.shape[0]\n",
    "w = np.zeros((n_dim, 1))\n",
    "b = 0"
   ]
  },
  {
   "cell_type": "code",
   "execution_count": 47,
   "metadata": {},
   "outputs": [],
   "source": [
    "# 定义前向传播函数，代价函数，梯度下降\n",
    "def propagate(w, b, X, y):\n",
    "    \n",
    "    # 前向传播函数\n",
    "    Z = np.dot(w.T, X) + b\n",
    "    A = sigmoid(z)\n",
    "    \n",
    "    # 代价函数\n",
    "    m = X.shape[1]\n",
    "    J = -1/m * np.sum(y * np.log(A) + (1-y) * np.log(1-A))\n",
    "    \n",
    "    # 梯度下降\n",
    "    dw = np.dot(X, (A-y).T) / m\n",
    "    db = np.dot(A-y)\n",
    "    \n",
    "    return dw, db, J"
   ]
  },
  {
   "cell_type": "code",
   "execution_count": 48,
   "metadata": {},
   "outputs": [],
   "source": [
    "# 优化部分\n",
    "def optimize(w, b, X, y, alpha, n_iters):\n",
    "    \n",
    "    J_lis = []\n",
    "    \n",
    "    for i in range(n_iters):\n",
    "        dw, db, J = propagate(w, b, X, y)\n",
    "        \n",
    "        w = w - alpha * dw\n",
    "        b = b - alpha * db\n",
    "        \n",
    "        if i % 100 == 0:\n",
    "            J_lis.append(J)\n",
    "            print(\"n_iters is \", i, \", cost is \", J)\n",
    "            \n",
    "    return dw,db,w,b,J_lis"
   ]
  },
  {
   "cell_type": "code",
   "execution_count": 49,
   "metadata": {},
   "outputs": [],
   "source": [
    "# 预测部分\n",
    "def predict(w, b, X_test):\n",
    "    \n",
    "    Z = np.dot(w.T, X_test) + b\n",
    "    A = sigmoid(Z)\n",
    "    \n",
    "    m = X_test.shape[1]\n",
    "    y_pred = np.zeros((1,m))\n",
    "    \n",
    "    for i in range(m):\n",
    "        if A[:,i] > 0.5:\n",
    "            y_pred[:, i] = 1\n",
    "        else:\n",
    "            y_pred[:, i] = 0\n",
    "    return y_pred"
   ]
  },
  {
   "cell_type": "code",
   "execution_count": null,
   "metadata": {},
   "outputs": [],
   "source": [
    "# 模型的整合\n",
    "def model(w, b, x_train, y_train, x_test, y_test, alpha, n_iters):\n",
    "    w, b, "
   ]
  }
 ],
 "metadata": {
  "kernelspec": {
   "display_name": "Python 3",
   "language": "python",
   "name": "python3"
  },
  "language_info": {
   "codemirror_mode": {
    "name": "ipython",
    "version": 3
   },
   "file_extension": ".py",
   "mimetype": "text/x-python",
   "name": "python",
   "nbconvert_exporter": "python",
   "pygments_lexer": "ipython3",
   "version": "3.7.6"
  }
 },
 "nbformat": 4,
 "nbformat_minor": 4
}
