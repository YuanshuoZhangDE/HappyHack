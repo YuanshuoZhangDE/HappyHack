{
 "cells": [
  {
   "cell_type": "code",
   "execution_count": 1,
   "metadata": {},
   "outputs": [],
   "source": [
    "import numpy as np\n",
    "import random"
   ]
  },
  {
   "cell_type": "code",
   "execution_count": 3,
   "metadata": {},
   "outputs": [
    {
     "name": "stdout",
     "output_type": "stream",
     "text": [
      "<class 'numpy.ndarray'>\n",
      "int32\n",
      "[1 2 3 4 5 6 7]\n",
      "<class 'numpy.ndarray'>\n",
      "int32\n",
      "[0 1 2 3 4 5 6]\n",
      "<class 'numpy.ndarray'>\n",
      "int32\n",
      "[0 1 2 3 4 5 6]\n"
     ]
    }
   ],
   "source": [
    "# 创建数组\n",
    "a = np.array([1,2,3,4,5,6,7])\n",
    "b = np.array(range(7))\n",
    "c = np.arange(7)\n",
    "\n",
    "print(type(a))\n",
    "print(a.dtype)\n",
    "print(a)\n",
    "\n",
    "print(type(b))\n",
    "print(b.dtype)\n",
    "print(b)\n",
    "\n",
    "print(type(b))\n",
    "print(b.dtype)\n",
    "print(c)"
   ]
  },
  {
   "cell_type": "code",
   "execution_count": 6,
   "metadata": {},
   "outputs": [
    {
     "name": "stdout",
     "output_type": "stream",
     "text": [
      "int64\n",
      "int64\n",
      "[False  True  True  True False]\n",
      "bool\n"
     ]
    }
   ],
   "source": [
    "# numpy数据类型\n",
    "a = np.array(range(7), dtype=np.int64)\n",
    "b = np.array(range(7), dtype='int64')\n",
    "c = np.array([0,1,1,1,0], dtype=np.bool)\n",
    "\n",
    "print(a.dtype)\n",
    "print(b.dtype)\n",
    "print(c)\n",
    "print(c.dtype)"
   ]
  },
  {
   "cell_type": "code",
   "execution_count": 7,
   "metadata": {},
   "outputs": [
    {
     "name": "stdout",
     "output_type": "stream",
     "text": [
      "[False False False  True  True  True]\n",
      "bool\n",
      "[0 0 0 1 1 1]\n",
      "int8\n"
     ]
    }
   ],
   "source": [
    "# 调整数据类型\n",
    "a = np.array([0,0,0,1,1,1], dtype=np.bool)\n",
    "print(a)\n",
    "print(a.dtype)\n",
    "\n",
    "b = a.astype('int8')\n",
    "print(b)\n",
    "print(b.dtype)"
   ]
  },
  {
   "cell_type": "code",
   "execution_count": 13,
   "metadata": {},
   "outputs": [
    {
     "name": "stdout",
     "output_type": "stream",
     "text": [
      "[0.216204   0.58072607 0.61073908 0.93731106 0.88482472 0.10907072\n",
      " 0.39171992]\n",
      "[0.22 0.58 0.61 0.94 0.88 0.11 0.39]\n",
      "[0.216 0.581 0.611 0.937 0.885 0.109 0.392]\n"
     ]
    }
   ],
   "source": [
    "# numpy中的小数\n",
    "a = np.array([random.random() for i in range(7)])\n",
    "print(a)\n",
    "\n",
    "b = np.round(a, 2)\n",
    "print(b)\n",
    "\n",
    "c = np.round(a, 3)\n",
    "print(c)"
   ]
  },
  {
   "cell_type": "code",
   "execution_count": 6,
   "metadata": {},
   "outputs": [
    {
     "name": "stdout",
     "output_type": "stream",
     "text": [
      "(2, 3)\n",
      "[[1 2]\n",
      " [3 4]\n",
      " [6 7]]\n",
      "[[[ 0  1  2  3]\n",
      "  [ 4  5  6  7]\n",
      "  [ 8  9 10 11]]\n",
      "\n",
      " [[12 13 14 15]\n",
      "  [16 17 18 19]\n",
      "  [20 21 22 23]]]\n"
     ]
    }
   ],
   "source": [
    "# 查看数组的形状\n",
    "a = np.array([[1,2,3],[4,6,7]])\n",
    "print(a.shape)\n",
    "\n",
    "b = a.reshape(3,2)\n",
    "print(b)\n",
    "\n",
    "c = np.arange(24).reshape(2,3,4)\n",
    "print(c)"
   ]
  },
  {
   "cell_type": "code",
   "execution_count": 7,
   "metadata": {},
   "outputs": [
    {
     "name": "stdout",
     "output_type": "stream",
     "text": [
      "[ 0  1  2  3  4  5  6  7  8  9 10 11 12 13 14 15 16 17 18 19 20 21 22 23]\n"
     ]
    }
   ],
   "source": [
    "# 数组展开\n",
    "a = np.arange(24).reshape(2,3,4)\n",
    "b = a.flatten()\n",
    "print(b)"
   ]
  },
  {
   "cell_type": "code",
   "execution_count": 9,
   "metadata": {},
   "outputs": [
    {
     "name": "stdout",
     "output_type": "stream",
     "text": [
      "[[[ 0  1  2  3]\n",
      "  [ 4  5  6  7]\n",
      "  [ 8  9 10 11]]\n",
      "\n",
      " [[12 13 14 15]\n",
      "  [16 17 18 19]\n",
      "  [20 21 22 23]]]\n",
      "[[[ 2  3  4  5]\n",
      "  [ 6  7  8  9]\n",
      "  [10 11 12 13]]\n",
      "\n",
      " [[14 15 16 17]\n",
      "  [18 19 20 21]\n",
      "  [22 23 24 25]]]\n",
      "[[[ 0  2  4  6]\n",
      "  [ 8 10 12 14]\n",
      "  [16 18 20 22]]\n",
      "\n",
      " [[24 26 28 30]\n",
      "  [32 34 36 38]\n",
      "  [40 42 44 46]]]\n"
     ]
    }
   ],
   "source": [
    "# 数组的广播\n",
    "## 广播原则：如果两个数组的后缘维度（即从末尾开始算起的维度）的轴长度相符\n",
    "##           或其中一方的长度为1，则认为它们是广播兼容的。\n",
    "## 例：（3，3，3，2）——>（3，3，2）——>（3，2）\n",
    "            \n",
    "a = np.arange(24).reshape(2,3,4)\n",
    "print(a)\n",
    "\n",
    "b = a + 2\n",
    "print(b)\n",
    "\n",
    "c = a * 2\n",
    "print(c)"
   ]
  },
  {
   "cell_type": "code",
   "execution_count": 10,
   "metadata": {},
   "outputs": [
    {
     "name": "stdout",
     "output_type": "stream",
     "text": [
      "[[100 102 104 106 108 110]\n",
      " [112 114 116 118 120 122]\n",
      " [124 126 128 130 132 134]\n",
      " [136 138 140 142 144 146]]\n",
      "[[   0  101  204  309  416  525]\n",
      " [ 636  749  864  981 1100 1221]\n",
      " [1344 1469 1596 1725 1856 1989]\n",
      " [2124 2261 2400 2541 2684 2829]]\n"
     ]
    }
   ],
   "source": [
    "# 维度相同的数组运算\n",
    "a = np.arange(24).reshape(4,6)\n",
    "b = np.arange(100,124).reshape(4,6)\n",
    "\n",
    "c = a + b\n",
    "d = a * b\n",
    "\n",
    "print(c)\n",
    "print(d)"
   ]
  },
  {
   "cell_type": "code",
   "execution_count": 4,
   "metadata": {},
   "outputs": [
    {
     "name": "stdout",
     "output_type": "stream",
     "text": [
      "[[ 0  1  2  3  4  5]\n",
      " [ 6  7  8  9 10 11]\n",
      " [12 13 14 15 16 17]\n",
      " [18 19 20 21 22 23]]\n",
      "(6, 4)\n",
      "[[ 0  6 12 18]\n",
      " [ 1  7 13 19]\n",
      " [ 2  8 14 20]\n",
      " [ 3  9 15 21]\n",
      " [ 4 10 16 22]\n",
      " [ 5 11 17 23]]\n"
     ]
    }
   ],
   "source": [
    " # 数组的转置\n",
    "a = np.arange(24).reshape(4,6)\n",
    "print(a)\n",
    "b = a.T\n",
    "print(b.shape)\n",
    "print(b)"
   ]
  },
  {
   "cell_type": "code",
   "execution_count": 10,
   "metadata": {},
   "outputs": [
    {
     "name": "stdout",
     "output_type": "stream",
     "text": [
      "[[ 0  1  2  3]\n",
      " [ 4  5  6  7]\n",
      " [ 8  9 10 11]\n",
      " [12 13 14 15]\n",
      " [16 17 18 19]\n",
      " [20 21 22 23]]\n",
      "取一行\n",
      "[4 5 6 7]\n",
      "取一列\n",
      "[ 2  6 10 14 18 22]\n",
      "取多行\n",
      "[[4 5 6 7]]\n",
      "[[ 0  1  2  3]\n",
      " [ 8  9 10 11]\n",
      " [20 21 22 23]]\n",
      "取多列\n",
      "[[ 0  1  2]\n",
      " [ 4  5  6]\n",
      " [ 8  9 10]\n",
      " [12 13 14]\n",
      " [16 17 18]\n",
      " [20 21 22]]\n"
     ]
    }
   ],
   "source": [
    "# 索引与切片 (a:b，含a不含b)\n",
    "a = np.arange(24).reshape(6,4)\n",
    "print(a)\n",
    "# # 取一行\n",
    "print('取一行')\n",
    "print(a[1])\n",
    "# # 取一列\n",
    "print('取一列')\n",
    "print(a[: , 2])\n",
    "# # 取多行\n",
    "print('取多行')\n",
    "print(a[1:2])\n",
    "print(a[[0,2,5]])\n",
    "# # 取多列\n",
    "print('取多列')\n",
    "print(a[: , 0:3])"
   ]
  },
  {
   "cell_type": "code",
   "execution_count": 19,
   "metadata": {},
   "outputs": [
    {
     "name": "stdout",
     "output_type": "stream",
     "text": [
      "[[ 0  1  2  3]\n",
      " [ 4  5  6  7]\n",
      " [ 8  9 10 11]\n",
      " [12 13 14 15]\n",
      " [16 17 18 19]\n",
      " [20 21 22 23]]\n",
      "[[ 0  1  2  3]\n",
      " [ 4  5  6  7]\n",
      " [ 8  0  0 11]\n",
      " [12  0  0 15]\n",
      " [16 17 18 19]\n",
      " [20 21 22 23]]\n",
      "[[ True  True  True  True]\n",
      " [ True  True  True  True]\n",
      " [ True  True  True False]\n",
      " [False  True  True False]\n",
      " [False False False False]\n",
      " [False False False False]]\n",
      "[[ 7  7  7  7]\n",
      " [ 7  7  7  7]\n",
      " [ 7  7  7 11]\n",
      " [12  7  7 15]\n",
      " [16 17 18 19]\n",
      " [20 21 22 23]]\n"
     ]
    },
    {
     "data": {
      "text/plain": [
       "array([[  0,   0,   0,   0],\n",
       "       [  0,   0,   0,   0],\n",
       "       [  0,   0,   0, 100],\n",
       "       [100,   0,   0, 100],\n",
       "       [100, 100, 100, 100],\n",
       "       [100, 100, 100, 100]])"
      ]
     },
     "execution_count": 19,
     "metadata": {},
     "output_type": "execute_result"
    }
   ],
   "source": [
    "# numpy中数值的修改\n",
    "a = np.arange(24).reshape(6,4)\n",
    "print(a)\n",
    "a[2:4,1:3] = 0\n",
    "print(a)\n",
    "# # 将小于10的数字替换为7\n",
    "print(a < 10)\n",
    "a[a<10] = 7\n",
    "print(a)\n",
    "# # np.where()\n",
    "np.where(a<10,0,100)"
   ]
  },
  {
   "cell_type": "code",
   "execution_count": null,
   "metadata": {},
   "outputs": [],
   "source": []
  }
 ],
 "metadata": {
  "kernelspec": {
   "display_name": "Python 3",
   "language": "python",
   "name": "python3"
  },
  "language_info": {
   "codemirror_mode": {
    "name": "ipython",
    "version": 3
   },
   "file_extension": ".py",
   "mimetype": "text/x-python",
   "name": "python",
   "nbconvert_exporter": "python",
   "pygments_lexer": "ipython3",
   "version": "3.7.4"
  }
 },
 "nbformat": 4,
 "nbformat_minor": 2
}
