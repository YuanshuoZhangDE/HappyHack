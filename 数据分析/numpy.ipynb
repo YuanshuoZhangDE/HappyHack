{
 "cells": [
  {
   "cell_type": "code",
   "execution_count": 1,
   "metadata": {},
   "outputs": [],
   "source": [
    "import numpy as np\n",
    "import random"
   ]
  },
  {
   "cell_type": "code",
   "execution_count": 3,
   "metadata": {},
   "outputs": [
    {
     "name": "stdout",
     "output_type": "stream",
     "text": [
      "<class 'numpy.ndarray'>\n",
      "int32\n",
      "[1 2 3 4 5 6 7]\n",
      "<class 'numpy.ndarray'>\n",
      "int32\n",
      "[0 1 2 3 4 5 6]\n",
      "<class 'numpy.ndarray'>\n",
      "int32\n",
      "[0 1 2 3 4 5 6]\n"
     ]
    }
   ],
   "source": [
    "# 创建数组\n",
    "a = np.array([1,2,3,4,5,6,7])\n",
    "b = np.array(range(7))\n",
    "c = np.arange(7)\n",
    "\n",
    "print(type(a))\n",
    "print(a.dtype)\n",
    "print(a)\n",
    "\n",
    "print(type(b))\n",
    "print(b.dtype)\n",
    "print(b)\n",
    "\n",
    "print(type(b))\n",
    "print(b.dtype)\n",
    "print(c)"
   ]
  },
  {
   "cell_type": "code",
   "execution_count": 6,
   "metadata": {},
   "outputs": [
    {
     "name": "stdout",
     "output_type": "stream",
     "text": [
      "int64\n",
      "int64\n",
      "[False  True  True  True False]\n",
      "bool\n"
     ]
    }
   ],
   "source": [
    "# numpy数据类型\n",
    "a = np.array(range(7), dtype=np.int64)\n",
    "b = np.array(range(7), dtype='int64')\n",
    "c = np.array([0,1,1,1,0], dtype=np.bool)\n",
    "\n",
    "print(a.dtype)\n",
    "print(b.dtype)\n",
    "print(c)\n",
    "print(c.dtype)"
   ]
  },
  {
   "cell_type": "code",
   "execution_count": 7,
   "metadata": {},
   "outputs": [
    {
     "name": "stdout",
     "output_type": "stream",
     "text": [
      "[False False False  True  True  True]\n",
      "bool\n",
      "[0 0 0 1 1 1]\n",
      "int8\n"
     ]
    }
   ],
   "source": [
    "# 调整数据类型\n",
    "a = np.array([0,0,0,1,1,1], dtype=np.bool)\n",
    "print(a)\n",
    "print(a.dtype)\n",
    "\n",
    "b = a.astype('int8')\n",
    "print(b)\n",
    "print(b.dtype)"
   ]
  },
  {
   "cell_type": "code",
   "execution_count": 13,
   "metadata": {},
   "outputs": [
    {
     "name": "stdout",
     "output_type": "stream",
     "text": [
      "[0.216204   0.58072607 0.61073908 0.93731106 0.88482472 0.10907072\n",
      " 0.39171992]\n",
      "[0.22 0.58 0.61 0.94 0.88 0.11 0.39]\n",
      "[0.216 0.581 0.611 0.937 0.885 0.109 0.392]\n"
     ]
    }
   ],
   "source": [
    "# numpy中的小数\n",
    "a = np.array([random.random() for i in range(7)])\n",
    "print(a)\n",
    "\n",
    "b = np.round(a, 2)\n",
    "print(b)\n",
    "\n",
    "c = np.round(a, 3)\n",
    "print(c)"
   ]
  },
  {
   "cell_type": "code",
   "execution_count": 6,
   "metadata": {},
   "outputs": [
    {
     "name": "stdout",
     "output_type": "stream",
     "text": [
      "(2, 3)\n",
      "[[1 2]\n",
      " [3 4]\n",
      " [6 7]]\n",
      "[[[ 0  1  2  3]\n",
      "  [ 4  5  6  7]\n",
      "  [ 8  9 10 11]]\n",
      "\n",
      " [[12 13 14 15]\n",
      "  [16 17 18 19]\n",
      "  [20 21 22 23]]]\n"
     ]
    }
   ],
   "source": [
    "# 查看数组的形状\n",
    "a = np.array([[1,2,3],[4,6,7]])\n",
    "print(a.shape)\n",
    "\n",
    "b = a.reshape(3,2)\n",
    "print(b)\n",
    "\n",
    "c = np.arange(24).reshape(2,3,4)\n",
    "print(c)"
   ]
  },
  {
   "cell_type": "code",
   "execution_count": 7,
   "metadata": {},
   "outputs": [
    {
     "name": "stdout",
     "output_type": "stream",
     "text": [
      "[ 0  1  2  3  4  5  6  7  8  9 10 11 12 13 14 15 16 17 18 19 20 21 22 23]\n"
     ]
    }
   ],
   "source": [
    "# 数组展开\n",
    "a = np.arange(24).reshape(2,3,4)\n",
    "b = a.flatten()\n",
    "print(b)"
   ]
  },
  {
   "cell_type": "code",
   "execution_count": 9,
   "metadata": {},
   "outputs": [
    {
     "name": "stdout",
     "output_type": "stream",
     "text": [
      "[[[ 0  1  2  3]\n",
      "  [ 4  5  6  7]\n",
      "  [ 8  9 10 11]]\n",
      "\n",
      " [[12 13 14 15]\n",
      "  [16 17 18 19]\n",
      "  [20 21 22 23]]]\n",
      "[[[ 2  3  4  5]\n",
      "  [ 6  7  8  9]\n",
      "  [10 11 12 13]]\n",
      "\n",
      " [[14 15 16 17]\n",
      "  [18 19 20 21]\n",
      "  [22 23 24 25]]]\n",
      "[[[ 0  2  4  6]\n",
      "  [ 8 10 12 14]\n",
      "  [16 18 20 22]]\n",
      "\n",
      " [[24 26 28 30]\n",
      "  [32 34 36 38]\n",
      "  [40 42 44 46]]]\n"
     ]
    }
   ],
   "source": [
    "# 数组的广播\n",
    "## 广播原则：如果两个数组的后缘维度（即从末尾开始算起的维度）的轴长度相符\n",
    "##           或其中一方的长度为1，则认为它们是广播兼容的。\n",
    "## 例：（3，3，3，2）——>（3，3，2）——>（3，2）\n",
    "            \n",
    "a = np.arange(24).reshape(2,3,4)\n",
    "print(a)\n",
    "\n",
    "b = a + 2\n",
    "print(b)\n",
    "\n",
    "c = a * 2\n",
    "print(c)"
   ]
  },
  {
   "cell_type": "code",
   "execution_count": 10,
   "metadata": {},
   "outputs": [
    {
     "name": "stdout",
     "output_type": "stream",
     "text": [
      "[[100 102 104 106 108 110]\n",
      " [112 114 116 118 120 122]\n",
      " [124 126 128 130 132 134]\n",
      " [136 138 140 142 144 146]]\n",
      "[[   0  101  204  309  416  525]\n",
      " [ 636  749  864  981 1100 1221]\n",
      " [1344 1469 1596 1725 1856 1989]\n",
      " [2124 2261 2400 2541 2684 2829]]\n"
     ]
    }
   ],
   "source": [
    "# 维度相同的数组运算\n",
    "a = np.arange(24).reshape(4,6)\n",
    "b = np.arange(100,124).reshape(4,6)\n",
    "\n",
    "c = a + b\n",
    "d = a * b\n",
    "\n",
    "print(c)\n",
    "print(d)"
   ]
  },
  {
   "cell_type": "code",
   "execution_count": 4,
   "metadata": {},
   "outputs": [
    {
     "name": "stdout",
     "output_type": "stream",
     "text": [
      "[[ 0  1  2  3  4  5]\n",
      " [ 6  7  8  9 10 11]\n",
      " [12 13 14 15 16 17]\n",
      " [18 19 20 21 22 23]]\n",
      "(6, 4)\n",
      "[[ 0  6 12 18]\n",
      " [ 1  7 13 19]\n",
      " [ 2  8 14 20]\n",
      " [ 3  9 15 21]\n",
      " [ 4 10 16 22]\n",
      " [ 5 11 17 23]]\n"
     ]
    }
   ],
   "source": [
    " # 数组的转置\n",
    "a = np.arange(24).reshape(4,6)\n",
    "print(a)\n",
    "b = a.T\n",
    "print(b.shape)\n",
    "print(b)"
   ]
  },
  {
   "cell_type": "code",
   "execution_count": 10,
   "metadata": {},
   "outputs": [
    {
     "name": "stdout",
     "output_type": "stream",
     "text": [
      "[[ 0  1  2  3]\n",
      " [ 4  5  6  7]\n",
      " [ 8  9 10 11]\n",
      " [12 13 14 15]\n",
      " [16 17 18 19]\n",
      " [20 21 22 23]]\n",
      "取一行\n",
      "[4 5 6 7]\n",
      "取一列\n",
      "[ 2  6 10 14 18 22]\n",
      "取多行\n",
      "[[4 5 6 7]]\n",
      "[[ 0  1  2  3]\n",
      " [ 8  9 10 11]\n",
      " [20 21 22 23]]\n",
      "取多列\n",
      "[[ 0  1  2]\n",
      " [ 4  5  6]\n",
      " [ 8  9 10]\n",
      " [12 13 14]\n",
      " [16 17 18]\n",
      " [20 21 22]]\n"
     ]
    }
   ],
   "source": [
    "# 索引与切片 (a:b，含a不含b)\n",
    "a = np.arange(24).reshape(6,4)\n",
    "print(a)\n",
    "# # 取一行\n",
    "print('取一行')\n",
    "print(a[1])\n",
    "# # 取一列\n",
    "print('取一列')\n",
    "print(a[: , 2])\n",
    "# # 取多行\n",
    "print('取多行')\n",
    "print(a[1:2])\n",
    "print(a[[0,2,5]])\n",
    "# # 取多列\n",
    "print('取多列')\n",
    "print(a[: , 0:3])"
   ]
  },
  {
   "cell_type": "code",
   "execution_count": 19,
   "metadata": {},
   "outputs": [
    {
     "name": "stdout",
     "output_type": "stream",
     "text": [
      "[[ 0  1  2  3]\n",
      " [ 4  5  6  7]\n",
      " [ 8  9 10 11]\n",
      " [12 13 14 15]\n",
      " [16 17 18 19]\n",
      " [20 21 22 23]]\n",
      "[[ 0  1  2  3]\n",
      " [ 4  5  6  7]\n",
      " [ 8  0  0 11]\n",
      " [12  0  0 15]\n",
      " [16 17 18 19]\n",
      " [20 21 22 23]]\n",
      "[[ True  True  True  True]\n",
      " [ True  True  True  True]\n",
      " [ True  True  True False]\n",
      " [False  True  True False]\n",
      " [False False False False]\n",
      " [False False False False]]\n",
      "[[ 7  7  7  7]\n",
      " [ 7  7  7  7]\n",
      " [ 7  7  7 11]\n",
      " [12  7  7 15]\n",
      " [16 17 18 19]\n",
      " [20 21 22 23]]\n"
     ]
    },
    {
     "data": {
      "text/plain": [
       "array([[  0,   0,   0,   0],\n",
       "       [  0,   0,   0,   0],\n",
       "       [  0,   0,   0, 100],\n",
       "       [100,   0,   0, 100],\n",
       "       [100, 100, 100, 100],\n",
       "       [100, 100, 100, 100]])"
      ]
     },
     "execution_count": 19,
     "metadata": {},
     "output_type": "execute_result"
    }
   ],
   "source": [
    "# numpy中数值的修改\n",
    "a = np.arange(24).reshape(6,4)\n",
    "print(a)\n",
    "a[2:4,1:3] = 0\n",
    "print(a)\n",
    "# # 将小于10的数字替换为7\n",
    "print(a < 10)\n",
    "a[a<10] = 7\n",
    "print(a)\n",
    "# # np.where()\n",
    "np.where(a<10,0,100)"
   ]
  },
  {
   "cell_type": "code",
   "execution_count": 7,
   "metadata": {},
   "outputs": [
    {
     "name": "stdout",
     "output_type": "stream",
     "text": [
      "[[  0   1   2   3   4   5]\n",
      " [  6   7   8   9  10  11]\n",
      " [ 12  13  14  15  16  17]\n",
      " [ 18  19  20  21  22  23]\n",
      " [100 101 102 103 104 105]\n",
      " [106 107 108 109 110 111]\n",
      " [112 113 114 115 116 117]\n",
      " [118 119 120 121 122 123]]\n",
      "[[  0   1   2   3   4   5 100 101 102 103 104 105]\n",
      " [  6   7   8   9  10  11 106 107 108 109 110 111]\n",
      " [ 12  13  14  15  16  17 112 113 114 115 116 117]\n",
      " [ 18  19  20  21  22  23 118 119 120 121 122 123]]\n"
     ]
    }
   ],
   "source": [
    "# 数组的拼接\n",
    "a = np.arange(24).reshape(4,6)\n",
    "b = np.arange(100,124).reshape(4,6)\n",
    "\n",
    "# # 竖直拼接vstack 需传元组\n",
    "c = np.vstack((a, b))\n",
    "print(c)\n",
    "\n",
    "# # 水平拼接\n",
    "d = np.hstack((a, b))\n",
    "print(d)"
   ]
  },
  {
   "cell_type": "code",
   "execution_count": 12,
   "metadata": {},
   "outputs": [
    {
     "name": "stdout",
     "output_type": "stream",
     "text": [
      "[[ 6  7  8  9 10 11]\n",
      " [ 0  1  2  3  4  5]\n",
      " [12 13 14 15 16 17]\n",
      " [18 19 20 21 22 23]]\n",
      "[[11  7  8  9 10  6]\n",
      " [ 5  1  2  3  4  0]\n",
      " [17 13 14 15 16 12]\n",
      " [23 19 20 21 22 18]]\n"
     ]
    }
   ],
   "source": [
    "# 数组的行列互换\n",
    "a = np.arange(24).reshape(4,6)\n",
    "\n",
    "# # 行交换\n",
    "a[[0,1],:] = a[[1,0],:]\n",
    "print(a)\n",
    "\n",
    "# # 列交换\n",
    "a[:,[0,5]] = a[:,[5,0]]\n",
    "print(a)"
   ]
  },
  {
   "cell_type": "code",
   "execution_count": 20,
   "metadata": {},
   "outputs": [
    {
     "name": "stdout",
     "output_type": "stream",
     "text": [
      "[[ 0  1  2  3  4  5]\n",
      " [ 6  7  8  9 10 11]\n",
      " [12 13 14 15 16 17]\n",
      " [18 19 20 21 22 23]]\n",
      "[5 5 5 5]\n"
     ]
    }
   ],
   "source": [
    "# 获取最小、大值的位置\n",
    "a = np.arange(24).reshape(4,6)\n",
    "print(a)\n",
    "b = np.argmax(a, axis=1)\n",
    "print(b)"
   ]
  },
  {
   "cell_type": "code",
   "execution_count": 22,
   "metadata": {},
   "outputs": [
    {
     "name": "stdout",
     "output_type": "stream",
     "text": [
      "[[0. 0. 0. 0.]\n",
      " [0. 0. 0. 0.]\n",
      " [0. 0. 0. 0.]]\n",
      "[[1. 1. 1. 1.]\n",
      " [1. 1. 1. 1.]\n",
      " [1. 1. 1. 1.]]\n",
      "[[1. 0. 0.]\n",
      " [0. 1. 0.]\n",
      " [0. 0. 1.]]\n"
     ]
    }
   ],
   "source": [
    "# 创建一个全0的数组\n",
    "a = np.zeros((3, 4))\n",
    "print(a)\n",
    "\n",
    "# 创建一个全1的数组\n",
    "b = np.ones((3, 4))\n",
    "print(b)\n",
    "\n",
    "# 创建一个对角线为1的正方形数组\n",
    "c = np.eye(3)\n",
    "print(c)"
   ]
  },
  {
   "cell_type": "code",
   "execution_count": 36,
   "metadata": {},
   "outputs": [
    {
     "name": "stdout",
     "output_type": "stream",
     "text": [
      "[[27. 17. 32. nan]\n",
      " [73. 62. 76. 11.]\n",
      " [nan 51. 10. 67.]]\n",
      "2\n",
      "[[False False False  True]\n",
      " [False False False False]\n",
      " [ True False False False]]\n",
      "2\n"
     ]
    }
   ],
   "source": [
    "# nan的注意点\n",
    "a = np.random.randint(1, 77, (3,4))\n",
    "a = a.astype('float32')\n",
    "\n",
    "a[0,3] = np.nan\n",
    "a[2,0] = np.nan\n",
    "\n",
    "print(a)\n",
    "\n",
    "# # 判断数组中nan的个数\n",
    "b = np.count_nonzero(a != a)\n",
    "print(b)\n",
    "\n",
    "c = np.isnan(a)\n",
    "print(c)\n",
    "d = np.count_nonzero(c)\n",
    "print(d)"
   ]
  },
  {
   "cell_type": "code",
   "execution_count": 49,
   "metadata": {},
   "outputs": [
    {
     "name": "stdout",
     "output_type": "stream",
     "text": [
      "[[48 60 39 88 50 72]\n",
      " [30 40 90 47 25 40]\n",
      " [19 14 15 33 92 66]\n",
      " [83 85 70  8 66 32]]\n",
      "********************\n",
      "[180 199 214 176 233 210]\n",
      "[59.5        45.33333333 39.83333333 57.33333333]\n",
      "[55. 40. 26. 68.]\n",
      "[83 85 90 88 92 72]\n",
      "[39 25 14  8]\n",
      "[64 71 75 80 67 40]\n",
      "[24.25901894 26.08040452 28.70975444 28.99137803 24.35544087 16.87453703]\n"
     ]
    }
   ],
   "source": [
    "# numpy中常用的统计函数，默认返回多维数组的全部的统计结果，如果指定axis，则返回一个当前轴上的结果\n",
    "np.random.seed(777)\n",
    "t = np.random.randint(1, 100, (4,6))\n",
    "print(t)\n",
    "print(\"*\" * 20)\n",
    "\n",
    "# # 求和 t.sum(axis = None)\n",
    "print(t.sum(axis = 0))\n",
    "\n",
    "# # 均值 t.mean(axis=None)\n",
    "print(t.mean(axis = 1))\n",
    "\n",
    "# # 中值 np.median(t, axis=None)\n",
    "print(np.median(t, axis=1))\n",
    "\n",
    "# # 最大值 t.max(axis = None)\n",
    "print(t.max(axis=0))\n",
    "\n",
    "# # 最小值 t.min(axis = None)\n",
    "print(t.min(axis=1))\n",
    "\n",
    "# # 极值 np.ptp(t, axis=None)\n",
    "print(np.ptp(t, axis=0))\n",
    "\n",
    "# # 标准差 t.std(axis = None)\n",
    "print(t.std(axis=0))"
   ]
  },
  {
   "cell_type": "code",
   "execution_count": 56,
   "metadata": {},
   "outputs": [
    {
     "name": "stdout",
     "output_type": "stream",
     "text": [
      "[[16. 14. 13. 17.]\n",
      " [10. 14. nan nan]\n",
      " [11. 17. 18. 15.]]\n",
      "[[16.  14.  13.  17. ]\n",
      " [10.  14.  15.5 16. ]\n",
      " [11.  17.  18.  15. ]]\n"
     ]
    }
   ],
   "source": [
    "# 将 nan 替换为列的平均数\n",
    "t = np.random.randint(10, 21, (3,4)).astype('float32')\n",
    "t[1, 2:] = np.nan\n",
    "print(t)\n",
    "\n",
    "for i in range(t.shape[1]):\n",
    "    # 当前列\n",
    "    temp_col = t[:, i]\n",
    "    nan_num = np.count_nonzero(temp_col != temp_col)\n",
    "    # 当前列有nan\n",
    "    if nan_num != 0:\n",
    "        # 不为nan \n",
    "        temp_not_nan_col = temp_col[temp_col == temp_col]\n",
    "        temp_col[np.isnan(temp_col)] = temp_not_nan_col.mean()\n",
    "        \n",
    "print(t)"
   ]
  }
 ],
 "metadata": {
  "kernelspec": {
   "display_name": "Python 3",
   "language": "python",
   "name": "python3"
  },
  "language_info": {
   "codemirror_mode": {
    "name": "ipython",
    "version": 3
   },
   "file_extension": ".py",
   "mimetype": "text/x-python",
   "name": "python",
   "nbconvert_exporter": "python",
   "pygments_lexer": "ipython3",
   "version": "3.7.4"
  }
 },
 "nbformat": 4,
 "nbformat_minor": 2
}
