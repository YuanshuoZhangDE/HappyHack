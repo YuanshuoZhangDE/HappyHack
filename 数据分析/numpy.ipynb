{
 "cells": [
  {
   "cell_type": "code",
   "execution_count": 8,
   "metadata": {},
   "outputs": [],
   "source": [
    "import numpy as np\n",
    "import random"
   ]
  },
  {
   "cell_type": "code",
   "execution_count": 3,
   "metadata": {},
   "outputs": [
    {
     "name": "stdout",
     "output_type": "stream",
     "text": [
      "<class 'numpy.ndarray'>\n",
      "int32\n",
      "[1 2 3 4 5 6 7]\n",
      "<class 'numpy.ndarray'>\n",
      "int32\n",
      "[0 1 2 3 4 5 6]\n",
      "<class 'numpy.ndarray'>\n",
      "int32\n",
      "[0 1 2 3 4 5 6]\n"
     ]
    }
   ],
   "source": [
    "# 创建数组\n",
    "a = np.array([1,2,3,4,5,6,7])\n",
    "b = np.array(range(7))\n",
    "c = np.arange(7)\n",
    "\n",
    "print(type(a))\n",
    "print(a.dtype)\n",
    "print(a)\n",
    "\n",
    "print(type(b))\n",
    "print(b.dtype)\n",
    "print(b)\n",
    "\n",
    "print(type(b))\n",
    "print(b.dtype)\n",
    "print(c)"
   ]
  },
  {
   "cell_type": "code",
   "execution_count": 6,
   "metadata": {},
   "outputs": [
    {
     "name": "stdout",
     "output_type": "stream",
     "text": [
      "int64\n",
      "int64\n",
      "[False  True  True  True False]\n",
      "bool\n"
     ]
    }
   ],
   "source": [
    "# numpy数据类型\n",
    "a = np.array(range(7), dtype=np.int64)\n",
    "b = np.array(range(7), dtype='int64')\n",
    "c = np.array([0,1,1,1,0], dtype=np.bool)\n",
    "\n",
    "print(a.dtype)\n",
    "print(b.dtype)\n",
    "print(c)\n",
    "print(c.dtype)"
   ]
  },
  {
   "cell_type": "code",
   "execution_count": 7,
   "metadata": {},
   "outputs": [
    {
     "name": "stdout",
     "output_type": "stream",
     "text": [
      "[False False False  True  True  True]\n",
      "bool\n",
      "[0 0 0 1 1 1]\n",
      "int8\n"
     ]
    }
   ],
   "source": [
    "# 调整数据类型\n",
    "a = np.array([0,0,0,1,1,1], dtype=np.bool)\n",
    "print(a)\n",
    "print(a.dtype)\n",
    "\n",
    "b = a.astype('int8')\n",
    "print(b)\n",
    "print(b.dtype)"
   ]
  },
  {
   "cell_type": "code",
   "execution_count": 13,
   "metadata": {},
   "outputs": [
    {
     "name": "stdout",
     "output_type": "stream",
     "text": [
      "[0.216204   0.58072607 0.61073908 0.93731106 0.88482472 0.10907072\n",
      " 0.39171992]\n",
      "[0.22 0.58 0.61 0.94 0.88 0.11 0.39]\n",
      "[0.216 0.581 0.611 0.937 0.885 0.109 0.392]\n"
     ]
    }
   ],
   "source": [
    "# numpy中的小数\n",
    "a = np.array([random.random() for i in range(7)])\n",
    "print(a)\n",
    "\n",
    "b = np.round(a, 2)\n",
    "print(b)\n",
    "\n",
    "c = np.round(a, 3)\n",
    "print(c)"
   ]
  },
  {
   "cell_type": "code",
   "execution_count": null,
   "metadata": {},
   "outputs": [],
   "source": []
  }
 ],
 "metadata": {
  "kernelspec": {
   "display_name": "Python 3",
   "language": "python",
   "name": "python3"
  },
  "language_info": {
   "codemirror_mode": {
    "name": "ipython",
    "version": 3
   },
   "file_extension": ".py",
   "mimetype": "text/x-python",
   "name": "python",
   "nbconvert_exporter": "python",
   "pygments_lexer": "ipython3",
   "version": "3.7.4"
  }
 },
 "nbformat": 4,
 "nbformat_minor": 2
}
